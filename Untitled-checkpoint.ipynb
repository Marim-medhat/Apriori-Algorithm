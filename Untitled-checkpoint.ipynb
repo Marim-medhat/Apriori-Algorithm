{
 "cells": [
  {
   "cell_type": "code",
   "execution_count": 8,
   "metadata": {},
   "outputs": [],
   "source": [
    "import pandas as pd\n",
    "from pandas import read_excel"
   ]
  },
  {
   "cell_type": "code",
   "execution_count": 15,
   "metadata": {
    "scrolled": true
   },
   "outputs": [
    {
     "name": "stdout",
     "output_type": "stream",
     "text": [
      "        Date      Time  Transaction Number         Item 1        Item 2  \\\n",
      "0 2016-10-30  10:07:57                   1  Hot chocolate  CaramelBites   \n",
      "1 2016-10-30  10:07:57                   2        Cookies  CaramelBites   \n",
      "2 2016-10-30  10:13:03                   3         Coffee    Chocolates   \n",
      "3 2016-10-30  10:19:12                   4         Coffee       Brownie   \n",
      "4 2016-10-30  10:19:12                   5            Tea       Cookies   \n",
      "\n",
      "          Item 3  \n",
      "0  Mineral water  \n",
      "1   CaramelBites  \n",
      "2        Brownie  \n",
      "3            Tea  \n",
      "4           Cake  \n"
     ]
    }
   ],
   "source": [
    "dfs = pd.read_excel('CoffeeShopTransactions.xlsx',sheet_name='Sheet1')\n",
    "print(dfs.head())"
   ]
  },
  {
   "cell_type": "code",
   "execution_count": null,
   "metadata": {},
   "outputs": [],
   "source": [
    "records = []\n",
    "for i in range(0, 100):\n",
    "    records.append([str(dfs.values[i,j]) for j in range(2, 4)])"
   ]
  },
  {
   "cell_type": "code",
   "execution_count": null,
   "metadata": {},
   "outputs": [],
   "source": [
    "print(records)"
   ]
  }
 ],
 "metadata": {
  "kernelspec": {
   "display_name": "Python 3",
   "language": "python",
   "name": "python3"
  },
  "language_info": {
   "codemirror_mode": {
    "name": "ipython",
    "version": 3
   },
   "file_extension": ".py",
   "mimetype": "text/x-python",
   "name": "python",
   "nbconvert_exporter": "python",
   "pygments_lexer": "ipython3",
   "version": "3.8.3"
  }
 },
 "nbformat": 4,
 "nbformat_minor": 4
}
