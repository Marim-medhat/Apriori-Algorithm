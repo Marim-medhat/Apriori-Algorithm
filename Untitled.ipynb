{
 "cells": [
  {
   "cell_type": "code",
   "execution_count": 171,
   "metadata": {},
   "outputs": [],
   "source": [
    "import pandas as pd\n",
    "from pandas import read_excel\n",
    "from itertools import combinations  \n",
    "from itertools import chain\n"
   ]
  },
  {
   "cell_type": "code",
   "execution_count": 119,
   "metadata": {
    "scrolled": true
   },
   "outputs": [
    {
     "name": "stdout",
     "output_type": "stream",
     "text": [
      "        Date      Time  Transaction Number          Item1         Item2  \\\n",
      "0 2016-10-30  10:07:57                   1  Hot chocolate  CaramelBites   \n",
      "1 2016-10-30  10:07:57                   2        Cookies  CaramelBites   \n",
      "2 2016-10-30  10:13:03                   3         Coffee    Chocolates   \n",
      "3 2016-10-30  10:19:12                   4         Coffee       Brownie   \n",
      "4 2016-10-30  10:19:12                   5            Tea       Cookies   \n",
      "\n",
      "           Item3  \n",
      "0  Mineral water  \n",
      "1   CaramelBites  \n",
      "2        Brownie  \n",
      "3            Tea  \n",
      "4           Cake  \n"
     ]
    }
   ],
   "source": [
    "dfs = pd.read_excel('CoffeeShopTransactions.xlsx',sheet_name='Sheet1')\n",
    "print(dfs.head())"
   ]
  },
  {
   "cell_type": "code",
   "execution_count": 177,
   "metadata": {},
   "outputs": [],
   "source": [
    "records = []\n",
    "for i in range(0, 50):\n",
    "    records.append([str(dfs.values[i,j]) for j in range(3, 6)])"
   ]
  },
  {
   "cell_type": "code",
   "execution_count": 178,
   "metadata": {},
   "outputs": [
    {
     "name": "stdout",
     "output_type": "stream",
     "text": [
      "[['Hot chocolate', 'CaramelBites', 'Mineral water'], ['Cookies', 'CaramelBites', 'CaramelBites'], ['Coffee', 'Chocolates', 'Brownie'], ['Coffee', 'Brownie', 'Tea'], ['Tea', 'Cookies', 'Cake'], ['Coffee', 'Hot chocolate', 'Cake'], ['Tea', 'Coffee', 'Juice'], ['Coffee', 'Juice', 'Brownie'], ['Mineral water', 'Coffee', 'Tea'], ['Coffee', 'Tea', 'Mineral water'], ['Hot chocolate', 'CaramelBites', 'Coffee'], ['Coffee', 'Cake', 'Cake'], ['Coffee', 'Cookies', 'Tea'], ['Coffee', 'Tea', 'Juice'], ['Coffee', 'Hot chocolate', 'Juice'], ['Coffee', 'Hot chocolate', 'Tea'], ['Tea', 'Juice', 'Chocolates'], ['Coffee', 'Tea', 'CaramelBites'], ['Tea', 'Brownie', 'Brownie'], ['Juice', 'Juice', 'Mineral water'], ['Coffee', 'Tea', 'CaramelBites'], ['Tea', 'Coffee', 'Coffee'], ['Coffee', 'Cake', 'Tea'], ['Coffee', 'Mineral water', 'Mineral water'], ['Hot chocolate', 'Mineral water', 'Cookies'], ['Coffee', 'Mineral water', 'Cake'], ['Juice', 'Tea', 'Cookies'], ['Coffee', 'Coffee', 'Tea'], ['Coffee', 'Cookies', 'Mineral water'], ['Coffee', 'Cake', 'Cake'], ['Coffee', 'Cake', 'Coffee'], ['Tea', 'Juice', 'Coffee'], ['Coffee', 'Tea', 'Cake'], ['Hot chocolate', 'Chocolates', 'Cake'], ['Tea', 'Tea', 'Cake'], ['Tea', 'Coffee', 'Mineral water'], ['Cookies', 'Tea', 'Brownie'], ['Coffee', 'Cake', 'Brownie'], ['Juice', 'Cookies', 'Mineral water'], ['Coffee', 'Juice', 'Cookies'], ['Coffee', 'Juice', 'CaramelBites'], ['Coffee', 'Mineral water', 'Tea'], ['Coffee', 'Mineral water', 'CaramelBites'], ['Coffee', 'Tea', 'Juice'], ['Cake', 'Mineral water', 'Hot chocolate'], ['Tea', 'Cake', 'Mineral water'], ['Coffee', 'Coffee', 'Hot chocolate'], ['Mineral water', 'Coffee', 'Coffee'], ['Mineral water', 'Juice', 'Juice'], ['Coffee', 'Mineral water', 'Juice']]\n"
     ]
    }
   ],
   "source": [
    "print(records)"
   ]
  },
  {
   "cell_type": "code",
   "execution_count": 123,
   "metadata": {},
   "outputs": [],
   "source": [
    "minsupp= 10.0\n",
    "minconf= (10/15)"
   ]
  },
  {
   "cell_type": "code",
   "execution_count": 55,
   "metadata": {},
   "outputs": [
    {
     "data": {
      "text/plain": [
       "Index(['Date', 'Time', 'Transaction Number', 'Item1', 'Item2', 'Item3'], dtype='object')"
      ]
     },
     "execution_count": 55,
     "metadata": {},
     "output_type": "execute_result"
    }
   ],
   "source": [
    "dfs.columns"
   ]
  },
  {
   "cell_type": "code",
   "execution_count": 124,
   "metadata": {},
   "outputs": [],
   "source": [
    "unique_item =dfs.Item3.unique()"
   ]
  },
  {
   "cell_type": "code",
   "execution_count": 57,
   "metadata": {},
   "outputs": [
    {
     "data": {
      "text/plain": [
       "array(['Hot chocolate', 'Cookies', 'Coffee', 'Tea', 'Mineral water',\n",
       "       'Juice', 'Cake', 'Brownie', 'Caramel bites', 'Chocolates'],\n",
       "      dtype=object)"
      ]
     },
     "execution_count": 57,
     "metadata": {},
     "output_type": "execute_result"
    }
   ],
   "source": [
    "dfs.Item1.unique()"
   ]
  },
  {
   "cell_type": "code",
   "execution_count": 58,
   "metadata": {},
   "outputs": [
    {
     "data": {
      "text/plain": [
       "array(['CaramelBites', 'Chocolates', 'Brownie', 'Cookies',\n",
       "       'Hot chocolate', 'Coffee', 'Juice', 'Tea', 'Cake', 'Mineral water'],\n",
       "      dtype=object)"
      ]
     },
     "execution_count": 58,
     "metadata": {},
     "output_type": "execute_result"
    }
   ],
   "source": [
    "dfs.Item2.unique()"
   ]
  },
  {
   "cell_type": "code",
   "execution_count": 125,
   "metadata": {},
   "outputs": [
    {
     "name": "stdout",
     "output_type": "stream",
     "text": [
      "['Mineral water' 'CaramelBites' 'Brownie' 'Tea' 'Cake' 'Juice' 'Coffee'\n",
      " 'Chocolates' 'Cookies' 'Hot chocolate']\n"
     ]
    }
   ],
   "source": [
    "print(unique_item)"
   ]
  },
  {
   "cell_type": "code",
   "execution_count": 76,
   "metadata": {},
   "outputs": [
    {
     "name": "stdout",
     "output_type": "stream",
     "text": [
      "Tea ['Coffee', 'Brownie', 'Tea']\n"
     ]
    }
   ],
   "source": [
    "print (unique_item[3],records[3])\n"
   ]
  },
  {
   "cell_type": "code",
   "execution_count": 127,
   "metadata": {},
   "outputs": [],
   "source": [
    "firstlevel={}\n",
    "for item in unique_item:\n",
    "    count=0\n",
    "    for record in records:\n",
    "        if item in record:\n",
    "            count+=1  \n",
    "        # dict = dict.fromkeys(unique_item, count)        \n",
    "    firstlevel[item]=int(count)    \n",
    "            "
   ]
  },
  {
   "cell_type": "code",
   "execution_count": 128,
   "metadata": {},
   "outputs": [
    {
     "name": "stdout",
     "output_type": "stream",
     "text": [
      "{'Mineral water': 17, 'CaramelBites': 7, 'Brownie': 6, 'Tea': 24, 'Cake': 13, 'Juice': 14, 'Coffee': 35, 'Chocolates': 3, 'Cookies': 9, 'Hot chocolate': 9}\n"
     ]
    }
   ],
   "source": [
    "print(firstlevel)"
   ]
  },
  {
   "cell_type": "code",
   "execution_count": 153,
   "metadata": {},
   "outputs": [],
   "source": [
    "ffl={}\n",
    "for k, v in firstlevel.items():\n",
    "    if v>=minsupp:\n",
    "         ffl[k]=v\n"
   ]
  },
  {
   "cell_type": "code",
   "execution_count": 154,
   "metadata": {},
   "outputs": [
    {
     "name": "stdout",
     "output_type": "stream",
     "text": [
      "{'Mineral water': 17, 'Tea': 24, 'Cake': 13, 'Juice': 14, 'Coffee': 35}\n"
     ]
    }
   ],
   "source": [
    "print(ffl)"
   ]
  },
  {
   "cell_type": "code",
   "execution_count": 132,
   "metadata": {},
   "outputs": [
    {
     "name": "stdout",
     "output_type": "stream",
     "text": [
      "[{}, {}, {}, {}, {}]\n"
     ]
    }
   ],
   "source": [
    "rules = []\n",
    "dict_rules = {}\n",
    "for i in dict:\n",
    "        dict_rules = {}\n",
    "        if type(i) != type(str()):\n",
    "            i = list(i)\n",
    "            temp_i = i[:]\n",
    "            for j in range(len(i)):\n",
    "                k = temp_i[j]\n",
    "                del temp_i[j]\n",
    "                dict_rules[k] = temp_i\n",
    "                temp_i = i[:]\n",
    "        rules.append(dict_rules)\n",
    "temp = []\n",
    "for i in rules:\n",
    "    for j in i.items():\n",
    "        if type(j[1]) != type(str()):\n",
    "            temp.append({tuple(j[1])[0]: j[0]})\n",
    "        else:\n",
    "            temp.append({j[1]: j[0]})\n",
    "rules.extend(temp)\n",
    "print(rules) "
   ]
  },
  {
   "cell_type": "code",
   "execution_count": 117,
   "metadata": {},
   "outputs": [
    {
     "ename": "TypeError",
     "evalue": "permutations() takes at most 2 arguments (3 given)",
     "output_type": "error",
     "traceback": [
      "\u001b[1;31m---------------------------------------------------------------------------\u001b[0m",
      "\u001b[1;31mTypeError\u001b[0m                                 Traceback (most recent call last)",
      "\u001b[1;32m<ipython-input-117-84f97f7bc6c9>\u001b[0m in \u001b[0;36m<module>\u001b[1;34m\u001b[0m\n\u001b[0;32m      4\u001b[0m \u001b[1;33m\u001b[0m\u001b[0m\n\u001b[0;32m      5\u001b[0m \u001b[1;31m# Get all permutations of [1, 2, 3]\u001b[0m\u001b[1;33m\u001b[0m\u001b[1;33m\u001b[0m\u001b[1;33m\u001b[0m\u001b[0m\n\u001b[1;32m----> 6\u001b[1;33m \u001b[0mperm\u001b[0m \u001b[1;33m=\u001b[0m \u001b[0mpermutations\u001b[0m\u001b[1;33m(\u001b[0m\u001b[1;33m[\u001b[0m\u001b[1;36m1\u001b[0m\u001b[1;33m,\u001b[0m \u001b[1;36m2\u001b[0m\u001b[1;33m]\u001b[0m\u001b[1;33m,\u001b[0m\u001b[1;33m[\u001b[0m\u001b[1;36m3\u001b[0m\u001b[1;33m,\u001b[0m\u001b[1;36m4\u001b[0m\u001b[1;33m]\u001b[0m\u001b[1;33m,\u001b[0m\u001b[1;36m2\u001b[0m\u001b[1;33m)\u001b[0m\u001b[1;33m\u001b[0m\u001b[1;33m\u001b[0m\u001b[0m\n\u001b[0m\u001b[0;32m      7\u001b[0m \u001b[1;33m\u001b[0m\u001b[0m\n\u001b[0;32m      8\u001b[0m \u001b[1;31m# Print the obtained permutations\u001b[0m\u001b[1;33m\u001b[0m\u001b[1;33m\u001b[0m\u001b[1;33m\u001b[0m\u001b[0m\n",
      "\u001b[1;31mTypeError\u001b[0m: permutations() takes at most 2 arguments (3 given)"
     ]
    }
   ],
   "source": [
    "# A Python program to print all \n",
    "# permutations using library function \n",
    "\n",
    "# Get all permutations of [1, 2, 3] \n",
    "perm = permutations([1, 2],[3,4],2) \n",
    "\n",
    "# Print the obtained permutations \n",
    "for i in list(perm): \n",
    "\tprint (i) "
   ]
  },
  {
   "cell_type": "code",
   "execution_count": 174,
   "metadata": {},
   "outputs": [],
   "source": [
    "#def apr(2,ffl):\n",
    "sl=combinations(ffl.keys(),2)\n",
    "seclevel={}\n",
    "for item in sl:\n",
    "    count=0\n",
    "    for record in records:\n",
    "        if(set(item).issubset(set(record))):\n",
    "            count+=1  \n",
    "        # dict = dict.fromkeys(unique_item, count)        \n",
    "    seclevel[item]=int(count)    \n",
    "fsl={}\n",
    "for k, v in seclevel.items():\n",
    "    if v>=minsupp:\n",
    "         fsl[k]=v\n",
    "            "
   ]
  },
  {
   "cell_type": "code",
   "execution_count": 180,
   "metadata": {},
   "outputs": [
    {
     "name": "stdout",
     "output_type": "stream",
     "text": [
      "{('Mineral water', 'Coffee'): 10, ('Tea', 'Coffee'): 17}\n"
     ]
    },
    {
     "data": {
      "text/plain": [
       "2"
      ]
     },
     "execution_count": 180,
     "metadata": {},
     "output_type": "execute_result"
    }
   ],
   "source": [
    "print(fsl)\n",
    "len(fsl)"
   ]
  },
  {
   "cell_type": "code",
   "execution_count": 173,
   "metadata": {},
   "outputs": [
    {
     "name": "stdout",
     "output_type": "stream",
     "text": [
      "('Juice', 'Cake', 'Coffee')\n",
      "('Juice', 'Cake', 'Tea')\n",
      "('Juice', 'Cake', 'Mineral water')\n",
      "('Juice', 'Coffee', 'Tea')\n",
      "('Juice', 'Coffee', 'Mineral water')\n",
      "('Juice', 'Tea', 'Mineral water')\n",
      "('Cake', 'Coffee', 'Tea')\n",
      "('Cake', 'Coffee', 'Mineral water')\n",
      "('Cake', 'Tea', 'Mineral water')\n",
      "('Coffee', 'Tea', 'Mineral water')\n"
     ]
    }
   ],
   "source": [
    "\n",
    "lis=set(chain(*fsl.keys())) \n",
    "comb = combinations(lis,3)  \n",
    "  \n",
    "# Print the obtained combinations  \n",
    "for i in list(comb):  \n",
    "    print (i) "
   ]
  },
  {
   "cell_type": "code",
   "execution_count": null,
   "metadata": {},
   "outputs": [],
   "source": []
  },
  {
   "cell_type": "code",
   "execution_count": null,
   "metadata": {},
   "outputs": [],
   "source": []
  }
 ],
 "metadata": {
  "kernelspec": {
   "display_name": "Python 3",
   "language": "python",
   "name": "python3"
  },
  "language_info": {
   "codemirror_mode": {
    "name": "ipython",
    "version": 3
   },
   "file_extension": ".py",
   "mimetype": "text/x-python",
   "name": "python",
   "nbconvert_exporter": "python",
   "pygments_lexer": "ipython3",
   "version": "3.8.3"
  }
 },
 "nbformat": 4,
 "nbformat_minor": 4
}
